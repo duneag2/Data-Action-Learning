{
 "cells": [
  {
   "cell_type": "code",
   "execution_count": 35,
   "id": "9c653a98",
   "metadata": {},
   "outputs": [],
   "source": [
    "from selenium import webdriver\n",
    "import time\n",
    "import os\n",
    "import re\n",
    "from bs4 import BeautifulSoup as bs\n",
    "from selenium.webdriver.common.keys import Keys\n",
    "import pandas as pd"
   ]
  },
  {
   "cell_type": "code",
   "execution_count": 36,
   "id": "c0561610",
   "metadata": {},
   "outputs": [],
   "source": [
    "driver = webdriver.Chrome('C:/Users/kongs/Desktop/chromedriver.exe')\n",
    "driver.get('https://nid.naver.com/nidlogin.login?mode=form&url=https%3A%2F%2Fwww.naver.com')\n",
    "\n",
    "driver.get('https://nid.naver.com/nidlogin.login?mode=form&url=https%3A%2F%2Fwww.naver.com')\n",
    "driver.find_element_by_xpath('//*[@id=\"id\"]').send_keys(\"네이버계정\")\n",
    "time.sleep(35)                                   # 네이버 로그인은 수동으로\n",
    "\n",
    "driver.get('https://cafe.naver.com/zzang9daddy') # 카페 주소로 이동\n",
    "\n",
    "driver.find_element_by_name('query').send_keys('구제') #검색어 구제 입력\n",
    "driver.find_element_by_name(\"query\").send_keys(Keys.ENTER) #엔터키 눌러서 검색\n",
    "time.sleep(2)"
   ]
  },
  {
   "cell_type": "code",
   "execution_count": 37,
   "id": "98d897cf",
   "metadata": {},
   "outputs": [
    {
     "name": "stdout",
     "output_type": "stream",
     "text": [
      "0                             [여름]여름과가을사이\n",
      "1                             [가을]푸마유아인자켓\n",
      "2                              [여름]요즘날씨에딱\n",
      "3                      [클락스]클락스데저트트랙체험단후기\n",
      "4             [모집마감][9월]와르21FW데님컬렉션체험단모집!\n",
      "5                           보세데님다들어디서사시나요\n",
      "6                       [가을]빨간소파가매력적인가죽자켓\n",
      "7                              쿠어울블루종왔네용!\n",
      "8                              주말에홍대구제샵쇼핑\n",
      "9     구제시장에서버버리정품코트45만원버버리정품셔츠7만원가격호갱인가요?\n",
      "10                            [여름]비올땐마스야드\n",
      "11                                  구제블루종\n",
      "12                             생로랑구제자켓..?\n",
      "13                  앤더슨벨인사이드아웃,비엔나,토니웩잔체크\n",
      "14                     동묘구제양가죽100버릴까요입을까유\n",
      "dtype: object\n"
     ]
    }
   ],
   "source": [
    "driver.switch_to.frame(\"cafe_main\")\n",
    "\n",
    "    req = driver.page_source\n",
    "    soup = bs(req, 'html.parser')\n",
    "    titles = soup.select('#main-area > div:nth-child(7) > table > tbody > tr')\n",
    "    list3 = []\n",
    "    \n",
    "for title in titles:\n",
    "    list = title.select_one('td.td_article > div.board-list > div >a').text\n",
    "    list2 = ''.join(list.split())\n",
    "    list3.append(list2)\n",
    "    \n",
    "list4_sr = pd.Series(list3)\n",
    "print(list4_sr)\n",
    "\n",
    "if i < 2:\n",
    "    driver.find_element_by_xpath(f'//*[@id=\"main-area\"]/div[7]/a[{i}+1]').click()"
   ]
  },
  {
   "cell_type": "code",
   "execution_count": null,
   "id": "2155382e",
   "metadata": {},
   "outputs": [],
   "source": []
  },
  {
   "cell_type": "code",
   "execution_count": null,
   "id": "1b7ca31a",
   "metadata": {},
   "outputs": [],
   "source": []
  }
 ],
 "metadata": {
  "kernelspec": {
   "display_name": "Python 3",
   "language": "python",
   "name": "python3"
  },
  "language_info": {
   "codemirror_mode": {
    "name": "ipython",
    "version": 3
   },
   "file_extension": ".py",
   "mimetype": "text/x-python",
   "name": "python",
   "nbconvert_exporter": "python",
   "pygments_lexer": "ipython3",
   "version": "3.8.8"
  }
 },
 "nbformat": 4,
 "nbformat_minor": 5
}
